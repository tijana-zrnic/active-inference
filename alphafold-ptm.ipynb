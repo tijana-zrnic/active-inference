{
 "cells": [
  {
   "cell_type": "markdown",
   "id": "14d2f594-03a8-4878-9454-42cc5ea3a81f",
   "metadata": {},
   "source": [
    "### Import necessary packages"
   ]
  },
  {
   "cell_type": "code",
   "execution_count": null,
   "id": "4f57ecd3",
   "metadata": {},
   "outputs": [],
   "source": [
    "%load_ext autoreload\n",
    "%autoreload 2\n",
    "import pyreadstat\n",
    "import numpy as np\n",
    "from sklearn.model_selection import train_test_split\n",
    "import xgboost as xgb\n",
    "import scipy\n",
    "import pandas as pd\n",
    "import seaborn as sns\n",
    "import matplotlib.pyplot as plt\n",
    "import os, sys\n",
    "from scipy.stats import norm, bernoulli\n",
    "from ppi_py.datasets import load_dataset\n",
    "import matplotlib.patheffects as pe\n",
    "from utils import make_width_coverage_plot, make_budget_plot\n",
    "import warnings; warnings.simplefilter('ignore')"
   ]
  },
  {
   "cell_type": "markdown",
   "id": "5cf90ae6",
   "metadata": {},
   "source": [
    "### Import the AlphaFold data set\n",
    "\n",
    "Load the data. The data set contains true indicators of disorder (```Y```), predicted indicators of disorder (```Yhat```), and indicators of a PTM (```phosphorylated```, ```ubiquitinated```, or ```acetylated```). Predictions of disorder are made based on AlphaFold predictions of structure."
   ]
  },
  {
   "cell_type": "code",
   "execution_count": null,
   "id": "a6da3138",
   "metadata": {},
   "outputs": [],
   "source": [
    "dataset_folder = \"./alphafold/data/\"\n",
    "data = load_dataset(dataset_folder, \"alphafold\")\n",
    "Y_total = data[\"Y\"]\n",
    "Yhat_total = data[\"Yhat\"]\n",
    "Z = data[\"phosphorylated\"].astype(bool)"
   ]
  },
  {
   "cell_type": "markdown",
   "id": "8969f9db",
   "metadata": {},
   "source": [
    "### Problem setup\n",
    "\n",
    "Compute ground-truth value of the odds ratio. Specify range of budgets in fractional form $n_b/n$, error level $\\alpha$, and number of trials."
   ]
  },
  {
   "cell_type": "code",
   "execution_count": null,
   "id": "5b3c8f29",
   "metadata": {},
   "outputs": [],
   "source": [
    "# Split into two subgroups for odds ratio calculation\n",
    "Y0, Y1 = Y_total[~Z], Y_total[Z]\n",
    "Yhat0, Yhat1 = Yhat_total[~Z], Yhat_total[Z]\n",
    "n0 = Y0.shape[0]\n",
    "n1 = Y1.shape[0]\n",
    "n = len(Y_total)\n",
    "\n",
    "# True odds ratio\n",
    "mu0 = Y0.mean()\n",
    "mu1 = Y1.mean()\n",
    "odds_ratio = (mu1 / (1 - mu1)) / (mu0 / (1 - mu0))"
   ]
  },
  {
   "cell_type": "code",
   "execution_count": null,
   "id": "b5419048-6d75-46fd-9166-89a2c811cf6e",
   "metadata": {},
   "outputs": [],
   "source": [
    "budgets = np.linspace(0.01, 0.2, 20)\n",
    "alpha = 0.1\n",
    "num_trials = 1000"
   ]
  },
  {
   "cell_type": "markdown",
   "id": "83ce18be",
   "metadata": {},
   "source": [
    "### Odds ratio confidence interval\n",
    "\n",
    "Parameters ```lhat0``` and ```lhat1``` determine the baseline (active, uniform, or classical)."
   ]
  },
  {
   "cell_type": "code",
   "execution_count": null,
   "id": "55c3df32",
   "metadata": {},
   "outputs": [],
   "source": [
    "def odds_ratio_ci(Y0, Yhat0, Y1, Yhat1, probs0, probs1, alpha, budget, lhat0=None, lhat1=None):\n",
    "    tau0 = 0.5\n",
    "    tau1 = 0.5\n",
    "    n0 = Y0.shape[0]\n",
    "    n1 = Y1.shape[0]    \n",
    "    probs0 = np.clip((1-tau0)*probs0 + tau0*budget, 0, 1)\n",
    "    probs1 = np.clip((1-tau1)*probs1 + tau1*budget, 0, 1)\n",
    "    xi0 = bernoulli.rvs(probs0)\n",
    "    mu0_hat = np.mean(lhat0*Yhat0 + (Y0 - lhat0*Yhat0)*xi0/probs0)\n",
    "    xi1 = bernoulli.rvs(probs1)\n",
    "    mu1_hat = np.mean(lhat1*Yhat1 + (Y1 - lhat1*Yhat1)*xi1/probs1)\n",
    "    pointest_log = np.log(mu1_hat/(1-mu1_hat)) - np.log(mu0_hat/(1-mu0_hat))\n",
    "    var_mu0_hat = np.var(lhat0*Yhat0 + (Y0 - lhat0*Yhat0)*xi0/probs0)\n",
    "    var_mu1_hat = np.var(lhat1*Yhat1 + (Y1 - lhat1*Yhat1)*xi1/probs1)\n",
    "    var0 = var_mu0_hat/((mu0_hat*(1-mu0_hat))**2)\n",
    "    var1 = var_mu1_hat/((mu1_hat*(1-mu1_hat))**2)\n",
    "    p0 = n0/(n0+n1)\n",
    "    p1 = n1/(n0+n1)\n",
    "    var = 1/p0*var0 + 1/p1*var1\n",
    "    width_log = norm.ppf(1-alpha/2)*np.sqrt(var/(n0+n1))\n",
    "    return np.exp(pointest_log - width_log), np.exp(pointest_log + width_log)"
   ]
  },
  {
   "cell_type": "markdown",
   "id": "844b3719-1d7f-4c17-ad07-714b4b754daf",
   "metadata": {},
   "source": [
    "### Main experiment\n",
    "\n",
    "Forms dataframe ```df``` with experiment results. The columns in the dataframe are:\n",
    "\n",
    "- ```lb``` - interval lower bound\n",
    "\n",
    "- ```ub``` - interval upper bound\n",
    "\n",
    "- ```interval width``` - equal to ```ub``` - ```lb```\n",
    "\n",
    "- ```coverage``` - 0/1 indicator of whether or not interval covered target\n",
    "\n",
    "- ```estimator``` - one of ```classical```, ```uniform```, or ```active```\n",
    "\n",
    "- ```$n_b$``` - budget size "
   ]
  },
  {
   "cell_type": "code",
   "execution_count": null,
   "id": "812f8fd5",
   "metadata": {},
   "outputs": [],
   "source": [
    "results = []\n",
    "columns = [\"lb\", \"ub\", \"interval width\", \"coverage\", \"estimator\", \"$n_b$\"]\n",
    "temp_df = pd.DataFrame(np.zeros((3,len(columns))), columns=columns)\n",
    "\n",
    "for j in range(len(budgets)):\n",
    "    budget = budgets[j]\n",
    "    \n",
    "    for i in range(num_trials):\n",
    "        uncertainty0 = np.minimum(Yhat0, 1-Yhat0)\n",
    "        uncertainty1 = np.minimum(Yhat1, 1-Yhat1)\n",
    "        eta0 = budget / np.mean(uncertainty0)\n",
    "        probs0 = eta0*uncertainty0\n",
    "        eta1 = budget / np.mean(uncertainty1)\n",
    "        probs1 = eta1*uncertainty1\n",
    "        \n",
    "        [l, u] = odds_ratio_ci(Y0, Yhat0, Y1, Yhat1, probs0, probs1, alpha, budget, lhat0=1, lhat1=1)\n",
    "        coverage_active = (odds_ratio >= l)*(odds_ratio <= u)   \n",
    "        temp_df.loc[0] = l, u, u-l, coverage_active, \"active\", int(budget*n)  \n",
    "\n",
    "        [l, u] = odds_ratio_ci(Y0, Yhat0, Y1, Yhat1, budget*np.ones(n0), budget*np.ones(n1), alpha, budget, lhat0=1, lhat1=1)\n",
    "        coverage_unif = (odds_ratio >= l)*(odds_ratio <= u)  \n",
    "        temp_df.loc[1] = l, u, u-l, coverage_unif, \"uniform\", int(budget*n)\n",
    "        \n",
    "        [l, u] = odds_ratio_ci(Y0, Yhat0, Y1, Yhat1, budget*np.ones(n0), budget*np.ones(n1), alpha, budget, lhat0=0, lhat1=0)\n",
    "        coverage_class = (odds_ratio >= l)*(odds_ratio <= u)  \n",
    "        temp_df.loc[2] = l, u, u-l, coverage_class, \"classical\", int(budget*n)\n",
    "\n",
    "        results += [temp_df.copy()]\n",
    "df = pd.concat(results,ignore_index=True)"
   ]
  },
  {
   "cell_type": "markdown",
   "id": "c37901e6-9751-4302-aa99-47351481b880",
   "metadata": {},
   "source": [
    "### Plot coverage and interval width"
   ]
  },
  {
   "cell_type": "code",
   "execution_count": null,
   "id": "9d30aa8d-2b4c-40a6-9150-aa96c79fe15b",
   "metadata": {},
   "outputs": [],
   "source": [
    "make_width_coverage_plot(df, \"odds ratio\", \"widths_and_coverage_alphafold.pdf\", odds_ratio, n_example_ind = 3)"
   ]
  },
  {
   "cell_type": "code",
   "execution_count": null,
   "id": "cdc3568a-8b42-4af2-9be3-3f094a443ca9",
   "metadata": {},
   "outputs": [],
   "source": [
    "make_budget_plot(df, \"AlphaFold\", \"budget_alphafold.pdf\")"
   ]
  }
 ],
 "metadata": {
  "kernelspec": {
   "display_name": "Python 3 (ipykernel)",
   "language": "python",
   "name": "python3"
  },
  "language_info": {
   "codemirror_mode": {
    "name": "ipython",
    "version": 3
   },
   "file_extension": ".py",
   "mimetype": "text/x-python",
   "name": "python",
   "nbconvert_exporter": "python",
   "pygments_lexer": "ipython3",
   "version": "3.11.5"
  }
 },
 "nbformat": 4,
 "nbformat_minor": 5
}
