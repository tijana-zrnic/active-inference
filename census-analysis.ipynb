{
 "cells": [
  {
   "cell_type": "markdown",
   "id": "b2449943-7c8f-4d73-b878-129c86407788",
   "metadata": {},
   "source": [
    "### Import necessary packages"
   ]
  },
  {
   "cell_type": "code",
   "execution_count": null,
   "id": "4cb227a9",
   "metadata": {},
   "outputs": [],
   "source": [
    "%load_ext autoreload\n",
    "%autoreload 2\n",
    "import pyreadstat\n",
    "import numpy as np\n",
    "from sklearn.model_selection import train_test_split\n",
    "import xgboost as xgb\n",
    "import scipy\n",
    "import pandas as pd\n",
    "import seaborn as sns\n",
    "from scipy.stats import norm, bernoulli\n",
    "import matplotlib.pyplot as plt\n",
    "import os, sys\n",
    "import matplotlib.patheffects as pe\n",
    "from utils import ols, make_width_coverage_plot, make_budget_plot, get_data, transform_features\n",
    "import warnings; warnings.simplefilter('ignore')\n",
    "from tqdm import tqdm"
   ]
  },
  {
   "cell_type": "markdown",
   "id": "82afc387-c6b7-48e1-887c-a48cc992d0b6",
   "metadata": {},
   "source": [
    "### Import the ACS PUMS dataset"
   ]
  },
  {
   "cell_type": "code",
   "execution_count": null,
   "id": "308bd5df-d02b-4d9b-b462-604a0717d2f6",
   "metadata": {},
   "outputs": [],
   "source": [
    "features = ['AGEP','SCHL','MAR','DIS','ESP','CIT','MIG','MIL','ANC1P','NATIVITY','DEAR','DEYE','DREM','SEX','RAC1P', 'SOCP', 'COW']\n",
    "ft = np.array([\"q\", \"q\", \"c\", \"c\", \"c\", \"c\", \"c\", \"c\", \"c\", \"c\", \"c\", \"c\", \"c\", \"c\", \"c\", \"c\", \"c\"])\n",
    "income_features, income, employed = get_data(year=2019, features=features, outcome='PINCP')"
   ]
  },
  {
   "cell_type": "markdown",
   "id": "ee9ca427-ea53-4cbc-9935-a7d221b0a97e",
   "metadata": {},
   "source": [
    "### Problem setup\n",
    "\n",
    "Split data into labeled and unlabeled subsets. Compute ground-truth value of the regression coefficient. Specify range of budgets in fractional form $n_b/n$."
   ]
  },
  {
   "cell_type": "code",
   "execution_count": null,
   "id": "5a312e46",
   "metadata": {},
   "outputs": [],
   "source": [
    "n_all = len(income)\n",
    "n_tr = int(n_all*0.5)\n",
    "\n",
    "income_features_labeled, income_features_unlabeled, income_labeled, Y = train_test_split(income_features, income, train_size=n_tr)\n",
    "income_labeled = income_labeled.to_numpy()\n",
    "\n",
    "X = np.stack([income_features_unlabeled['AGEP'].to_numpy(), income_features_unlabeled['SEX'].to_numpy()], axis=1)\n",
    "Y = Y.to_numpy()\n",
    "age = income_features['AGEP'].to_numpy()\n",
    "sex = income_features['SEX'].to_numpy()\n",
    "theta_true = ols(np.stack([age, sex], axis=1), income.to_numpy())[0]"
   ]
  },
  {
   "cell_type": "code",
   "execution_count": null,
   "id": "f64ec6a5-6841-49c1-b86b-e3f9bf7e5f2d",
   "metadata": {},
   "outputs": [],
   "source": [
    "budgets = np.linspace(0.001, 0.03, 20)"
   ]
  },
  {
   "cell_type": "markdown",
   "id": "4c600a54-8cde-476a-a368-52143854cd37",
   "metadata": {},
   "source": [
    "### Train XGBoost model\n",
    "\n",
    "Train XGBoost model on labeled data. Additionally train auxiliary model for predicting the magnitude of prediction error. Compute model uncertainty for unlabeled instances."
   ]
  },
  {
   "cell_type": "code",
   "execution_count": null,
   "id": "c7731d57-e679-4f42-8a8f-12d2497e95f4",
   "metadata": {},
   "outputs": [],
   "source": [
    "income_features_enc, enc = transform_features(income_features, ft)\n",
    "income_features_labeled = transform_features(income_features_labeled, ft, enc)[0]\n",
    "income_features_unlabeled = transform_features(income_features_unlabeled, ft, enc)[0]\n",
    "\n",
    "dtrain = xgb.DMatrix(income_features_labeled, label=income_labeled)\n",
    "tree = xgb.train({'eta': 0.3, 'max_depth': 7, 'objective': 'reg:absoluteerror'}, dtrain, 2000)\n",
    "Yhat = tree.predict(xgb.DMatrix(income_features_unlabeled))\n",
    "\n",
    "dtrain = xgb.DMatrix(income_features_labeled, label=np.abs(income_labeled - tree.predict(xgb.DMatrix(income_features_labeled))))\n",
    "tree_err = xgb.train({'eta': 0.3, 'max_depth': 7, 'objective': 'reg:absoluteerror'}, dtrain, 2000)"
   ]
  },
  {
   "cell_type": "code",
   "execution_count": null,
   "id": "25e8ac2b-c977-4d2e-8ef5-1fa764e0c437",
   "metadata": {},
   "outputs": [],
   "source": [
    "predicted_errs = np.clip(tree_err.predict(xgb.DMatrix(income_features_unlabeled)), 0, np.inf)\n",
    "Hessian_inv = np.linalg.inv(1/X.shape[0] * X.T @ X)\n",
    "h = Hessian_inv[:,0]\n",
    "uncertainty = np.abs(h.dot(X.T)) * predicted_errs"
   ]
  },
  {
   "cell_type": "markdown",
   "id": "d8cb79e3-5b93-4ce4-922b-332db78184a6",
   "metadata": {},
   "source": [
    "### Main experiment\n",
    "\n",
    "Forms dataframe ```df``` with experiment results. The columns in the dataframe are:\n",
    "\n",
    "- ```lb``` - interval lower bound\n",
    "\n",
    "- ```ub``` - interval upper bound\n",
    "\n",
    "- ```interval width``` - equal to ```ub``` - ```lb```\n",
    "\n",
    "- ```coverage``` - 0/1 indicator of whether or not interval covered target\n",
    "\n",
    "- ```estimator``` - one of ```classical```, ```uniform```, or ```active```\n",
    "\n",
    "- ```$n_b$``` - budget size "
   ]
  },
  {
   "cell_type": "code",
   "execution_count": null,
   "id": "87c23fce-69ee-4b2e-9187-50bfc20cdffe",
   "metadata": {},
   "outputs": [],
   "source": [
    "n = n_all - n_tr\n",
    "num_trials = 1000\n",
    "alpha = 0.1\n",
    "tau = 0.001"
   ]
  },
  {
   "cell_type": "code",
   "execution_count": null,
   "id": "71ef90d5-6fa0-4179-9f03-cef844f6ff50",
   "metadata": {},
   "outputs": [],
   "source": [
    "results = []\n",
    "columns = [\"lb\", \"ub\", \"interval width\", \"coverage\", \"estimator\", \"$n_b$\"]\n",
    "temp_df = pd.DataFrame(np.zeros((3,len(columns))), columns=columns)\n",
    "\n",
    "\n",
    "for j in tqdm(range(len(budgets))):\n",
    "    budget = budgets[j]\n",
    "    eta = budget / np.mean(uncertainty)\n",
    "    probs = np.clip((1-tau)*eta*uncertainty + tau*budget, 0, 1)\n",
    "    \n",
    "    for i in range(num_trials):        \n",
    "        xi = bernoulli.rvs(probs)\n",
    "        active_labels = (Y - Yhat)*xi/probs + Yhat\n",
    "        pointest_active = ols(X, active_labels)\n",
    "        grads = np.zeros(X.shape)\n",
    "        for i in range(n):\n",
    "            grads[i,:] = (np.dot(X[i,:], pointest_active) - active_labels[i]) * X[i,:]\n",
    "        V = np.cov(grads.T)\n",
    "        Sigma_active = Hessian_inv @ V @ Hessian_inv\n",
    "        pointest_active_std = np.sqrt(Sigma_active[0,0])/np.sqrt(n)\n",
    "        width_active = norm.ppf(1-alpha/2)*pointest_active_std \n",
    "        coverage_active = (theta_true >= pointest_active[0] - width_active)*(theta_true <= pointest_active[0] + width_active)   \n",
    "        temp_df.loc[0] = pointest_active[0] - width_active, pointest_active[0] + width_active, 2*width_active, coverage_active, \"active\", int(budget*n)\n",
    "\n",
    "        xi_unif = bernoulli.rvs([budget]*n)\n",
    "        unif_labels = (Y-Yhat)*xi_unif/budget + Yhat\n",
    "        pointest_unif = ols(X, unif_labels)\n",
    "        grads = np.zeros(X.shape)\n",
    "        for i in range(n):\n",
    "            grads[i,:] = (np.dot(X[i,:], pointest_unif) - unif_labels[i]) * X[i,:]\n",
    "        V = np.cov(grads.T)\n",
    "        \n",
    "        Sigma_unif = Hessian_inv @ V @ Hessian_inv\n",
    "        pointest_unif_std = np.sqrt(Sigma_unif[0,0])/np.sqrt(n)\n",
    "        width_unif = norm.ppf(1-alpha/2)*pointest_unif_std\n",
    "        coverage_unif = (theta_true >= pointest_unif[0] - width_unif)*(theta_true <= pointest_unif[0] + width_unif)\n",
    "        temp_df.loc[1] = pointest_unif[0] - width_unif, pointest_unif[0] + width_unif, 2*width_unif, coverage_unif, \"uniform\", int(budget*n)\n",
    "\n",
    "        class_labels = Y*xi_unif/budget\n",
    "        pointest_class = ols(X, class_labels)\n",
    "        grads = np.zeros(X.shape)\n",
    "        for i in range(n):\n",
    "            grads[i,:] = (np.dot(X[i,:], pointest_class) - class_labels[i]) * X[i,:]\n",
    "        V = np.cov(grads.T)\n",
    "        \n",
    "        Sigma_class = Hessian_inv @ V @ Hessian_inv\n",
    "        pointest_class_std = np.sqrt(Sigma_class[0,0])/np.sqrt(n)\n",
    "        width_class = norm.ppf(1-alpha/2)*pointest_class_std\n",
    "        coverage_class = (theta_true >= pointest_class[0] - width_class)*(theta_true <= pointest_class[0] + width_class)\n",
    "        temp_df.loc[2] = pointest_class[0] - width_class, pointest_class[0] + width_class, 2*width_class, coverage_class, \"classical\", int(budget*n)\n",
    "\n",
    "        results += [temp_df.copy()]\n",
    "df = pd.concat(results,ignore_index=True)"
   ]
  },
  {
   "cell_type": "markdown",
   "id": "be81ea83-fdf5-48da-812a-268b8dea5a1f",
   "metadata": {},
   "source": [
    "### Plot coverage and interval width"
   ]
  },
  {
   "cell_type": "code",
   "execution_count": null,
   "id": "702c3424-94eb-4a6b-b3fb-0bf8269a92f6",
   "metadata": {},
   "outputs": [],
   "source": [
    "make_width_coverage_plot(df, \"regression coefficient\", \"widths_and_coverage_census_batch.pdf\", theta_true, num_trials = num_trials, n_example_ind = 3, less_precision=True)"
   ]
  },
  {
   "cell_type": "markdown",
   "id": "d780c128-11dc-474d-bb43-174508adeec7",
   "metadata": {},
   "source": [
    "### Plot budget saved"
   ]
  },
  {
   "cell_type": "code",
   "execution_count": null,
   "id": "0b1d0706-b1c3-46f6-b1e0-ec3ed27cf911",
   "metadata": {},
   "outputs": [],
   "source": [
    "make_budget_plot(df, \"Census data analysis\", \"budget_census_batch.pdf\")"
   ]
  }
 ],
 "metadata": {
  "kernelspec": {
   "display_name": "Python 3 (ipykernel)",
   "language": "python",
   "name": "python3"
  },
  "language_info": {
   "codemirror_mode": {
    "name": "ipython",
    "version": 3
   },
   "file_extension": ".py",
   "mimetype": "text/x-python",
   "name": "python",
   "nbconvert_exporter": "python",
   "pygments_lexer": "ipython3",
   "version": "3.11.5"
  }
 },
 "nbformat": 4,
 "nbformat_minor": 5
}
